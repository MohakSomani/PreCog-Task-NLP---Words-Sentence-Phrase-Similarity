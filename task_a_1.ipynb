{
 "cells": [
  {
   "cell_type": "code",
   "execution_count": 42,
   "metadata": {
    "id": "sMnv2AlV5k1K"
   },
   "outputs": [
    {
     "name": "stdout",
     "output_type": "stream",
     "text": [
      "True\n",
      "NVIDIA GeForce RTX 4060 Laptop GPU\n"
     ]
    }
   ],
   "source": [
    "import torch\n",
    "print(torch.cuda.is_available())\n",
    "print(torch.cuda.get_device_name(0))\n"
   ]
  },
  {
   "cell_type": "code",
   "execution_count": 43,
   "metadata": {
    "id": "2dSTTg-o5k1L"
   },
   "outputs": [],
   "source": [
    "import torch\n",
    "import torch.nn as nn\n",
    "import torch.optim as optim\n",
    "from nltk.corpus import brown\n",
    "from collections import Counter\n",
    "import numpy as np\n",
    "import random\n"
   ]
  },
  {
   "cell_type": "code",
   "execution_count": 44,
   "metadata": {
    "colab": {
     "base_uri": "https://localhost:8080/"
    },
    "id": "80ifne1U5k1L",
    "outputId": "db938493-1fa9-477c-af30-76d3c6a8d867"
   },
   "outputs": [
    {
     "name": "stderr",
     "output_type": "stream",
     "text": [
      "[nltk_data] Downloading package brown to /home/mohak/nltk_data...\n",
      "[nltk_data]   Package brown is already up-to-date!\n"
     ]
    },
    {
     "data": {
      "text/plain": [
       "True"
      ]
     },
     "execution_count": 44,
     "metadata": {},
     "output_type": "execute_result"
    }
   ],
   "source": [
    "# Download the Brown corpus if not already downloaded\n",
    "import nltk\n",
    "nltk.download('brown')"
   ]
  },
  {
   "cell_type": "code",
   "execution_count": 45,
   "metadata": {
    "id": "bAd8tPaA5k1M"
   },
   "outputs": [],
   "source": [
    "# Preprocessing\n",
    "sentences = brown.sents()[:]  # Use only the first 1000 sentences for quick testing\n",
    "corpus = [word.lower() for sentence in sentences for word in sentence]\n",
    "vocab = set(corpus)\n",
    "vocab_size = len(vocab)"
   ]
  },
  {
   "cell_type": "code",
   "execution_count": 46,
   "metadata": {
    "id": "6tRzbHCP5k1M"
   },
   "outputs": [],
   "source": [
    "# Create word to index and index to word mappings\n",
    "word_to_index = {word: idx for idx, word in enumerate(vocab)}\n",
    "index_to_word = {idx: word for word, idx in word_to_index.items()}"
   ]
  },
  {
   "cell_type": "code",
   "execution_count": 47,
   "metadata": {
    "id": "O-z6IxmF5k1M"
   },
   "outputs": [],
   "source": [
    "# Generate training data (CBOW model)\n",
    "def generate_cbow_data(corpus, window_size=2):\n",
    "    data = []\n",
    "    for idx, word in enumerate(corpus):\n",
    "        if idx < window_size or idx >= len(corpus) - window_size:\n",
    "            continue\n",
    "        context = [word_to_index[corpus[i]] for i in range(idx - window_size, idx + window_size + 1) if i != idx]\n",
    "        target = word_to_index[word]\n",
    "        data.append((context, target))\n",
    "    return data\n",
    "\n",
    "window_size = 2\n",
    "training_data = generate_cbow_data(corpus, window_size)"
   ]
  },
  {
   "cell_type": "code",
   "execution_count": 48,
   "metadata": {
    "id": "2COcWNNo5k1M"
   },
   "outputs": [],
   "source": [
    "# Define the Word2Vec model\n",
    "class Word2VecCBOW(nn.Module):\n",
    "    def __init__(self, vocab_size, embedding_dim):\n",
    "        super(Word2VecCBOW, self).__init__()\n",
    "        self.embeddings = nn.Embedding(vocab_size, embedding_dim)\n",
    "        self.output = nn.Linear(embedding_dim, vocab_size)\n",
    "\n",
    "    def forward(self, context):\n",
    "        embedded = self.embeddings(context).mean(dim=1)\n",
    "        output = self.output(embedded)\n",
    "        return output"
   ]
  },
  {
   "cell_type": "code",
   "execution_count": 49,
   "metadata": {
    "id": "iIP-LUiF5k1N"
   },
   "outputs": [],
   "source": [
    "# Hyperparameters\n",
    "embedding_dim = 100\n",
    "epochs = 10\n",
    "batch_size = 256\n",
    "learning_rate = 0.001"
   ]
  },
  {
   "cell_type": "code",
   "execution_count": 50,
   "metadata": {
    "colab": {
     "base_uri": "https://localhost:8080/"
    },
    "id": "Mflf8P7f5k1N",
    "outputId": "fe3a92c1-f549-4ad9-9c98-6b5ac240d759"
   },
   "outputs": [
    {
     "name": "stdout",
     "output_type": "stream",
     "text": [
      "Using device: cuda\n"
     ]
    }
   ],
   "source": [
    "# Check if GPU is available\n",
    "device = torch.device(\"cuda\" if torch.cuda.is_available() else \"cpu\")\n",
    "print(f\"Using device: {device}\")"
   ]
  },
  {
   "cell_type": "code",
   "execution_count": 51,
   "metadata": {
    "id": "cyxnDFov5k1N"
   },
   "outputs": [],
   "source": [
    "# Create model, loss function, and optimizer\n",
    "model = Word2VecCBOW(vocab_size, embedding_dim).to(device)\n",
    "criterion = nn.CrossEntropyLoss()\n",
    "optimizer = optim.Adam(model.parameters(), lr=learning_rate)"
   ]
  },
  {
   "cell_type": "code",
   "execution_count": 52,
   "metadata": {
    "id": "NksASdUq5k1N"
   },
   "outputs": [],
   "source": [
    "# Prepare batches for training\n",
    "def get_batches(training_data, batch_size):\n",
    "    random.shuffle(training_data)\n",
    "    for i in range(0, len(training_data), batch_size):\n",
    "        batch = training_data[i:i + batch_size]\n",
    "        contexts, targets = zip(*batch)\n",
    "        yield torch.tensor(contexts, dtype=torch.long), torch.tensor(targets, dtype=torch.long)\n"
   ]
  },
  {
   "cell_type": "code",
   "execution_count": 53,
   "metadata": {
    "colab": {
     "base_uri": "https://localhost:8080/",
     "height": 391
    },
    "id": "-P570Qr-5k1O",
    "outputId": "bc54ef36-02f6-4726-a7d1-6482b620a7a8"
   },
   "outputs": [
    {
     "name": "stdout",
     "output_type": "stream",
     "text": [
      "Epoch 1, Loss: 31765.8421\n",
      "Epoch 2, Loss: 27800.9517\n",
      "Epoch 3, Loss: 26427.7473\n",
      "Epoch 4, Loss: 25440.8100\n",
      "Epoch 5, Loss: 24649.0425\n",
      "Epoch 6, Loss: 23978.3590\n",
      "Epoch 7, Loss: 23394.0538\n",
      "Epoch 8, Loss: 22873.5845\n",
      "Epoch 9, Loss: 22402.0419\n",
      "Epoch 10, Loss: 21972.7009\n"
     ]
    }
   ],
   "source": [
    "# Training loop\n",
    "for epoch in range(epochs):\n",
    "    total_loss = 0\n",
    "    for contexts, targets in get_batches(training_data, batch_size):\n",
    "        contexts, targets = contexts.to(device), targets.to(device)\n",
    "        optimizer.zero_grad()\n",
    "        outputs = model(contexts)\n",
    "        loss = criterion(outputs, targets)\n",
    "        loss.backward()\n",
    "        optimizer.step()\n",
    "        total_loss += loss.item()\n",
    "    print(f\"Epoch {epoch + 1}, Loss: {total_loss:.4f}\")"
   ]
  },
  {
   "cell_type": "code",
   "execution_count": 54,
   "metadata": {
    "id": "t-ZrtcQU5k1O"
   },
   "outputs": [],
   "source": [
    "# Save the word embeddings\n",
    "word_embeddings = model.embeddings.weight.detach().cpu().numpy()"
   ]
  },
  {
   "cell_type": "code",
   "execution_count": 55,
   "metadata": {
    "id": "yDwIBtvU5k1O"
   },
   "outputs": [],
   "source": [
    "# # Example usage: find similar words\n",
    "# def find_similar_words(word, word_embeddings, top_n=5):\n",
    "#     if word not in word_to_index:\n",
    "#         return []\n",
    "#     idx = word_to_index[word]\n",
    "#     word_vec = word_embeddings[idx]\n",
    "#     similarities = np.dot(word_embeddings, word_vec) / (\n",
    "#         np.linalg.norm(word_embeddings, axis=1) * np.linalg.norm(word_vec))\n",
    "#     similar_indices = similarities.argsort()[-top_n - 1:-1][::-1]\n",
    "#     return [index_to_word[i] for i in similar_indices if i != idx]\n",
    "\n",
    "# print(find_similar_words(\"government\", word_embeddings))\n"
   ]
  },
  {
   "cell_type": "code",
   "execution_count": null,
   "metadata": {
    "colab": {
     "base_uri": "https://localhost:8080/"
    },
    "id": "IzCW_Mny5k1O",
    "outputId": "a7d1ee07-47c5-4984-a6d6-3bf740d9b493"
   },
   "outputs": [
    {
     "name": "stdout",
     "output_type": "stream",
     "text": [
      "Similarity between 'king' and 'queen': 9.3065\n"
     ]
    }
   ],
   "source": [
    "\n",
    "def get_similarity_score(word1, word2, word_embeddings, word_to_index):\n",
    "    \"\"\"\n",
    "    Calculates the cosine similarity score between two words using word embeddings.\n",
    "\n",
    "    Args:\n",
    "        word1 (str): The first word.\n",
    "        word2 (str): The second word.\n",
    "        word_embeddings (np.ndarray): The word embeddings matrix.\n",
    "        word_to_index (dict): A dictionary mapping words to their indices in the embeddings matrix.\n",
    "\n",
    "    Returns:\n",
    "        float: The cosine similarity score between the two words.\n",
    "    \"\"\"\n",
    "    if word1 not in word_to_index or word2 not in word_to_index:\n",
    "        return 0.0  # Return 0 if either word is not in the vocabulary\n",
    "\n",
    "    word1_index = word_to_index[word1]\n",
    "    word2_index = word_to_index[word2]\n",
    "\n",
    "    word1_vec = word_embeddings[word1_index]\n",
    "    word2_vec = word_embeddings[word2_index]\n",
    "\n",
    "    #Cosine Similarity of two embeddings\n",
    "    similarity = np.dot(word1_vec, word2_vec) / (np.linalg.norm(word1_vec) * np.linalg.norm(word2_vec))\n",
    "\n",
    "    return similarity*10 # since Simlex Dataset has scores scaled across 0 to 10\n",
    "\n",
    "# Example usage:\n",
    "word1 = \"king\"\n",
    "word2 = \"queen\"\n",
    "similarity_score = get_similarity_score(word1, word2, word_embeddings, word_to_index)\n",
    "print(f\"Similarity between '{word1}' and '{word2}': {similarity_score:.4f}\")"
   ]
  },
  {
   "cell_type": "code",
   "execution_count": 67,
   "metadata": {
    "colab": {
     "base_uri": "https://localhost:8080/"
    },
    "id": "B2EzeTVYLPZF",
    "outputId": "295ddd7a-326c-4087-f3e5-515662c9ba3f"
   },
   "outputs": [
    {
     "name": "stdout",
     "output_type": "stream",
     "text": [
      "Evaluation Results:\n",
      "Pearson Correlation: 0.0752\n",
      "Spearman Correlation: 0.0802\n"
     ]
    }
   ],
   "source": [
    "# Function to load the test dataset from a tab-separated text file\n",
    "import pandas as pd\n",
    "from scipy.stats import pearsonr, spearmanr\n",
    "\n",
    "def load_txt_dataset(file_path):\n",
    "    columns = ['word1', 'word2', 'POS', 'SimLex999', 'conc(w1)', 'conc(w2)',\n",
    "               'concQ', 'Assoc(USF)', 'SimAssoc333', 'SD(SimLex)']\n",
    "    return pd.read_csv(file_path, delimiter=\"\\t\", names=columns, skiprows=1)\n",
    "\n",
    "# Evaluation function\n",
    "def evaluate_model_with_txt(file_path, word_embeddings, word_to_index):\n",
    "    test_data = load_txt_dataset(file_path)\n",
    "\n",
    "    # Extract word pairs and human similarity scores\n",
    "    word_pairs = test_data[['word1', 'word2']]\n",
    "    human_scores = test_data['SimLex999']\n",
    "\n",
    "    # Compute model-predicted similarity scores\n",
    "    predicted_scores = []\n",
    "    for _, row in word_pairs.iterrows():\n",
    "        similarity = get_similarity_score(row['word1'], row['word2'], word_embeddings, word_to_index)\n",
    "        predicted_scores.append(similarity)\n",
    "\n",
    "    # Filter out missing words (None scores)\n",
    "    valid_indices = [i for i, score in enumerate(predicted_scores) if score is not None]\n",
    "    human_scores = human_scores.iloc[valid_indices]\n",
    "    predicted_scores = np.array([predicted_scores[i] for i in valid_indices])\n",
    "    # print(predicted_scores)\n",
    "    # print(human_scores)\n",
    "\n",
    "    # Calculate Pearson and Spearman correlations\n",
    "    pearson_corr, _ = pearsonr(human_scores, predicted_scores)\n",
    "    spearman_corr, _ = spearmanr(human_scores, predicted_scores)\n",
    "\n",
    "    return {\n",
    "        \"Pearson Correlation\": pearson_corr,\n",
    "        \"Spearman Correlation\": spearman_corr\n",
    "    }\n",
    "\n",
    "test_dataset_path = \"SimLex-999.txt\"\n",
    "\n",
    "evaluation_results = evaluate_model_with_txt(test_dataset_path, word_embeddings, word_to_index)\n",
    "\n",
    "print(\"Evaluation Results:\")\n",
    "print(f\"Pearson Correlation: {evaluation_results['Pearson Correlation']:.4f}\")\n",
    "print(f\"Spearman Correlation: {evaluation_results['Spearman Correlation']:.4f}\")\n"
   ]
  }
 ],
 "metadata": {
  "accelerator": "TPU",
  "colab": {
   "gpuType": "V28",
   "include_colab_link": true,
   "provenance": []
  },
  "kernelspec": {
   "display_name": ".venv",
   "language": "python",
   "name": "python3"
  },
  "language_info": {
   "codemirror_mode": {
    "name": "ipython",
    "version": 3
   },
   "file_extension": ".py",
   "mimetype": "text/x-python",
   "name": "python",
   "nbconvert_exporter": "python",
   "pygments_lexer": "ipython3",
   "version": "3.12.3"
  }
 },
 "nbformat": 4,
 "nbformat_minor": 0
}
