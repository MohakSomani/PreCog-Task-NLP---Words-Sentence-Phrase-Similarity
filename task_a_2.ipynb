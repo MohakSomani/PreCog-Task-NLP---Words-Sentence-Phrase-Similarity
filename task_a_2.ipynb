{
 "cells": [
  {
   "cell_type": "code",
   "execution_count": 6,
   "metadata": {
    "id": "7DRGfKWRLcsn"
   },
   "outputs": [],
   "source": [
    "# !python -m spacy download en_core_web_lg"
   ]
  },
  {
   "cell_type": "code",
   "execution_count": 7,
   "metadata": {
    "id": "6L0UDdTYKe7o"
   },
   "outputs": [],
   "source": [
    "import spacy\n",
    "\n",
    "# Load the spaCy model\n",
    "nlp = spacy.load(\"en_core_web_lg\")"
   ]
  },
  {
   "cell_type": "code",
   "execution_count": 8,
   "metadata": {
    "colab": {
     "base_uri": "https://localhost:8080/"
    },
    "id": "rHxovmk8LpDC",
    "outputId": "f785280d-6acc-4313-989d-e7648d690b33"
   },
   "outputs": [
    {
     "name": "stdout",
     "output_type": "stream",
     "text": [
      "Similarity between 'king' and 'queen': 0.7253\n"
     ]
    }
   ],
   "source": [
    "# Get word vectors\n",
    "word1 = nlp(\"king\")\n",
    "word2 = nlp(\"queen\")\n",
    "\n",
    "# Calculate similarity score\n",
    "similarity_score = word1.similarity(word2)\n",
    "\n",
    "print(f\"Similarity between '{word1}' and '{word2}': {similarity_score:.4f}\")"
   ]
  },
  {
   "cell_type": "code",
   "execution_count": 11,
   "metadata": {},
   "outputs": [
    {
     "name": "stdout",
     "output_type": "stream",
     "text": [
      "Evaluation Results:\n",
      "Pearson Correlation: 0.4367\n",
      "Spearman Correlation: 0.4083\n"
     ]
    }
   ],
   "source": [
    "# Evaluate the pre trained spacy model\n",
    "import pandas as pd\n",
    "from scipy.stats import pearsonr, spearmanr\n",
    "\n",
    "def evaluate_spacy_model(test_dataset_path):\n",
    "    \"\"\"\n",
    "    Evaluates spaCy's pre-trained model on a test dataset with human-rated similarity scores.\n",
    "\n",
    "    Args:\n",
    "        test_dataset_path (str): Path to the test dataset (SimLex-999).\n",
    "\n",
    "    Returns:\n",
    "        dict: Pearson and Spearman correlation scores.\n",
    "    \"\"\"\n",
    "    # Load the spaCy model\n",
    "    nlp = spacy.load(\"en_core_web_lg\")\n",
    "\n",
    "    # Load the test dataset\n",
    "    test_data = pd.read_csv(test_dataset_path, delimiter=\"\\t\")\n",
    "\n",
    "    # Extract word pairs and human similarity scores\n",
    "    word_pairs = test_data[['word1', 'word2']]\n",
    "    human_scores = test_data['SimLex999']\n",
    "\n",
    "    # Compute spaCy-predicted similarity scores\n",
    "    predicted_scores = []\n",
    "    for _, row in word_pairs.iterrows():\n",
    "        word1_vec = nlp(row['word1'])\n",
    "        word2_vec = nlp(row['word2'])\n",
    "        predicted_scores.append((word1_vec.similarity(word2_vec))*10)\n",
    "\n",
    "    # Calculate Pearson and Spearman correlations\n",
    "    pearson_corr, _ = pearsonr(human_scores, predicted_scores)\n",
    "    spearman_corr, _ = spearmanr(human_scores, predicted_scores)\n",
    "\n",
    "    return {\n",
    "        \"Pearson Correlation\": pearson_corr,\n",
    "        \"Spearman Correlation\": spearman_corr\n",
    "    }\n",
    "\n",
    "test_dataset_path = \"SimLex-999.txt\"\n",
    "evaluation_results = evaluate_spacy_model(test_dataset_path)\n",
    "print(\"Evaluation Results:\")\n",
    "print(f\"Pearson Correlation: {evaluation_results['Pearson Correlation']:.4f}\")\n",
    "print(f\"Spearman Correlation: {evaluation_results['Spearman Correlation']:.4f}\")\n"
   ]
  },
  {
   "cell_type": "code",
   "execution_count": null,
   "metadata": {},
   "outputs": [],
   "source": []
  }
 ],
 "metadata": {
  "accelerator": "GPU",
  "colab": {
   "authorship_tag": "ABX9TyPrjUX/Imq90KoGKAgYfh6H",
   "gpuType": "T4",
   "include_colab_link": true,
   "provenance": []
  },
  "kernelspec": {
   "display_name": ".venv",
   "language": "python",
   "name": "python3"
  },
  "language_info": {
   "codemirror_mode": {
    "name": "ipython",
    "version": 3
   },
   "file_extension": ".py",
   "mimetype": "text/x-python",
   "name": "python",
   "nbconvert_exporter": "python",
   "pygments_lexer": "ipython3",
   "version": "3.12.3"
  }
 },
 "nbformat": 4,
 "nbformat_minor": 0
}
