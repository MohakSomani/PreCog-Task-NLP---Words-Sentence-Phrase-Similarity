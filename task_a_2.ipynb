{
 "cells": [
  {
   "cell_type": "code",
   "execution_count": null,
   "metadata": {
    "id": "7DRGfKWRLcsn"
   },
   "outputs": [],
   "source": [
    "# Download the Spacy Model\n",
    "# !python -m spacy download en_core_web_md"
   ]
  },
  {
   "cell_type": "code",
   "execution_count": null,
   "metadata": {
    "id": "6L0UDdTYKe7o"
   },
   "outputs": [],
   "source": [
    "import spacy\n",
    "nlp = spacy.load(\"en_core_web_md\")"
   ]
  },
  {
   "cell_type": "code",
   "execution_count": 8,
   "metadata": {
    "colab": {
     "base_uri": "https://localhost:8080/"
    },
    "id": "rHxovmk8LpDC",
    "outputId": "f785280d-6acc-4313-989d-e7648d690b33"
   },
   "outputs": [
    {
     "name": "stdout",
     "output_type": "stream",
     "text": [
      "Similarity between 'king' and 'queen': 0.7253\n"
     ]
    }
   ],
   "source": [
    "word1 = nlp(\"king\")\n",
    "word2 = nlp(\"queen\")\n",
    "\n",
    "similarity_score = word1.similarity(word2)\n",
    "\n",
    "print(f\"Similarity between '{word1}' and '{word2}': {similarity_score:.4f}\")"
   ]
  },
  {
   "cell_type": "markdown",
   "metadata": {},
   "source": [
    "# Evaluation"
   ]
  },
  {
   "cell_type": "code",
   "execution_count": null,
   "metadata": {},
   "outputs": [
    {
     "name": "stdout",
     "output_type": "stream",
     "text": [
      "Evaluation Results:\n",
      "Pearson Correlation: 0.4367\n",
      "Spearman Correlation: 0.4083\n"
     ]
    }
   ],
   "source": [
    "# import pandas as pd\n",
    "# from scipy.stats import pearsonr, spearmanr\n",
    "\n",
    "# def evaluate_spacy_model(test_dataset_path):\n",
    "#     # Load the spaCy model\n",
    "#     nlp = spacy.load(\"en_core_web_md\")\n",
    "\n",
    "#     # Load the test dataset\n",
    "#     test_data = pd.read_csv(test_dataset_path, delimiter=\"\\t\")\n",
    "\n",
    "#     # Extract word pairs and human similarity scores\n",
    "#     word_pairs = test_data[['word1', 'word2']]\n",
    "#     human_scores = test_data['SimLex999']\n",
    "\n",
    "#     # Compute spaCy-predicted similarity scores\n",
    "#     predicted_scores = []\n",
    "#     for _, row in word_pairs.iterrows():\n",
    "#         word1_vec = nlp(row['word1'])\n",
    "#         word2_vec = nlp(row['word2'])\n",
    "#         predicted_scores.append((word1_vec.similarity(word2_vec))*10)\n",
    "\n",
    "#     # Calculate Pearson and Spearman correlations\n",
    "#     pearson_corr, _ = pearsonr(human_scores, predicted_scores)\n",
    "#     spearman_corr, _ = spearmanr(human_scores, predicted_scores)\n",
    "\n",
    "#     return {\n",
    "#         \"Pearson Correlation\": pearson_corr,\n",
    "#         \"Spearman Correlation\": spearman_corr\n",
    "#     }\n",
    "\n",
    "# test_dataset_path = \"./datasets/SimLex-999.txt\"\n",
    "# evaluation_results = evaluate_spacy_model(test_dataset_path)\n",
    "# print(\"Evaluation Results:\")\n",
    "# print(f\"Pearson Correlation: {evaluation_results['Pearson Correlation']:.4f}\")\n",
    "# print(f\"Spearman Correlation: {evaluation_results['Spearman Correlation']:.4f}\")\n"
   ]
  },
  {
   "cell_type": "code",
   "execution_count": 5,
   "metadata": {},
   "outputs": [
    {
     "name": "stderr",
     "output_type": "stream",
     "text": [
      "Evaluating: 100%|██████████| 999/999 [00:07<00:00, 135.79it/s]"
     ]
    },
    {
     "name": "stdout",
     "output_type": "stream",
     "text": [
      "accuracy: 0.5816\n",
      "precision: 0.5401\n",
      "f1_score: 0.4258\n",
      "recall: 0.3515\n",
      "correlation: 0.2275\n"
     ]
    },
    {
     "name": "stderr",
     "output_type": "stream",
     "text": [
      "\n"
     ]
    }
   ],
   "source": [
    "import pandas as pd\n",
    "import numpy as np\n",
    "from sklearn.metrics import accuracy_score, precision_recall_fscore_support\n",
    "from scipy.stats import pearsonr, spearmanr\n",
    "from tqdm import tqdm\n",
    "\n",
    "def evaluate_spacy_model(test_dataset_path, threshold=0.5):\n",
    "    test_data = pd.read_csv(test_dataset_path, delimiter=\"\\t\")\n",
    "\n",
    "    word_pairs = test_data[['word1', 'word2']]\n",
    "    human_scores = test_data['SimLex999']\n",
    "\n",
    "    predicted_scores = []\n",
    "    for _, row in tqdm(word_pairs.iterrows(), desc=\"Evaluating\", total=len(word_pairs)):\n",
    "        word1_vec = nlp(row['word1'])\n",
    "        word2_vec = nlp(row['word2'])\n",
    "        similarity = word1_vec.similarity(word2_vec) * 10\n",
    "        predicted_scores.append(similarity)\n",
    "    \n",
    "    predicted_scores = np.array(predicted_scores)\n",
    "    \n",
    "    # Normalize scores to 0-1 range\n",
    "    human_scores_norm = (human_scores - human_scores.min()) / (human_scores.max() - human_scores.min())\n",
    "    predicted_scores_norm = (predicted_scores - predicted_scores.min()) / (predicted_scores.max() - predicted_scores.min())\n",
    "    \n",
    "    pearson_corr, _ = pearsonr(human_scores, predicted_scores)\n",
    "    spearman_corr, _ = spearmanr(human_scores, predicted_scores)\n",
    "    correlation = (pearson_corr + spearman_corr) / 2   \n",
    "\n",
    "    # Continous -> binary values\n",
    "    human_binary = (human_scores_norm >= threshold).astype(int)\n",
    "    predicted_binary = (predicted_scores_norm >= threshold).astype(int)\n",
    "    \n",
    "    accuracy = accuracy_score(human_binary, predicted_binary)\n",
    "    precision, recall, f1, _ = precision_recall_fscore_support(human_binary, predicted_binary, average='binary')\n",
    "    \n",
    "    return {\n",
    "        'accuracy': round(accuracy, 4),\n",
    "        'precision': round(precision, 4),\n",
    "        'f1_score': round(f1, 4),\n",
    "        'recall': round(recall, 4),\n",
    "        'correlation': round(correlation, 4)\n",
    "    }\n",
    "\n",
    "# Example usage:\n",
    "test_dataset_path = \"./datasets/SimLex-999.txt\"\n",
    "results = evaluate_spacy_model(test_dataset_path)\n",
    "for metric, value in results.items():\n",
    "    print(f\"{metric}: {value}\")"
   ]
  }
 ],
 "metadata": {
  "accelerator": "GPU",
  "colab": {
   "authorship_tag": "ABX9TyPrjUX/Imq90KoGKAgYfh6H",
   "gpuType": "T4",
   "include_colab_link": true,
   "provenance": []
  },
  "kernelspec": {
   "display_name": ".venv",
   "language": "python",
   "name": "python3"
  },
  "language_info": {
   "codemirror_mode": {
    "name": "ipython",
    "version": 3
   },
   "file_extension": ".py",
   "mimetype": "text/x-python",
   "name": "python",
   "nbconvert_exporter": "python",
   "pygments_lexer": "ipython3",
   "version": "3.12.3"
  }
 },
 "nbformat": 4,
 "nbformat_minor": 0
}
