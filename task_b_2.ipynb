{
 "cells": [
  {
   "cell_type": "markdown",
   "metadata": {},
   "source": [
    "# Sentence Similarity"
   ]
  },
  {
   "cell_type": "code",
   "execution_count": 1,
   "metadata": {},
   "outputs": [
    {
     "name": "stderr",
     "output_type": "stream",
     "text": [
      "/home/mohak/Desktop/PreCog-Task-NLP---Words-Sentence-Phrase-Similarity/.venv/lib/python3.12/site-packages/tqdm/auto.py:21: TqdmWarning: IProgress not found. Please update jupyter and ipywidgets. See https://ipywidgets.readthedocs.io/en/stable/user_install.html\n",
      "  from .autonotebook import tqdm as notebook_tqdm\n",
      "Generating train split: 100%|██████████| 49401/49401 [00:00<00:00, 699607.70 examples/s]\n",
      "Generating test split: 100%|██████████| 8000/8000 [00:00<00:00, 1438375.86 examples/s]\n",
      "Generating validation split: 100%|██████████| 8000/8000 [00:00<00:00, 1399617.59 examples/s]\n"
     ]
    }
   ],
   "source": [
    "from datasets import load_dataset\n",
    "\n",
    "ds = load_dataset(\"google-research-datasets/paws\", \"labeled_final\")"
   ]
  },
  {
   "cell_type": "code",
   "execution_count": 2,
   "metadata": {},
   "outputs": [
    {
     "data": {
      "text/plain": [
       "DatasetDict({\n",
       "    train: Dataset({\n",
       "        features: ['id', 'sentence1', 'sentence2', 'label'],\n",
       "        num_rows: 49401\n",
       "    })\n",
       "    test: Dataset({\n",
       "        features: ['id', 'sentence1', 'sentence2', 'label'],\n",
       "        num_rows: 8000\n",
       "    })\n",
       "    validation: Dataset({\n",
       "        features: ['id', 'sentence1', 'sentence2', 'label'],\n",
       "        num_rows: 8000\n",
       "    })\n",
       "})"
      ]
     },
     "execution_count": 2,
     "metadata": {},
     "output_type": "execute_result"
    }
   ],
   "source": [
    "ds"
   ]
  },
  {
   "cell_type": "code",
   "execution_count": 3,
   "metadata": {},
   "outputs": [],
   "source": [
    "import torch\n",
    "import torch.nn.functional as F"
   ]
  },
  {
   "cell_type": "code",
   "execution_count": 4,
   "metadata": {},
   "outputs": [],
   "source": [
    "# Download the Spacy Model\n",
    "# !python -m spacy download en_core_web_md"
   ]
  },
  {
   "cell_type": "code",
   "execution_count": 5,
   "metadata": {},
   "outputs": [],
   "source": [
    "# Load the spaCy model\n",
    "import spacy\n",
    "nlp = spacy.load(\"en_core_web_md\")"
   ]
  },
  {
   "cell_type": "code",
   "execution_count": 6,
   "metadata": {},
   "outputs": [
    {
     "name": "stdout",
     "output_type": "stream",
     "text": [
      "Cosine similarity between the sentences: 0.4713\n"
     ]
    },
    {
     "name": "stderr",
     "output_type": "stream",
     "text": [
      "/tmp/ipykernel_7362/3514545018.py:13: UserWarning: Creating a tensor from a list of numpy.ndarrays is extremely slow. Please consider converting the list to a single numpy.ndarray with numpy.array() before converting to a tensor. (Triggered internally at ../torch/csrc/utils/tensor_new.cpp:278.)\n",
      "  return torch.mean(torch.tensor(word_embeddings), dim=0)\n"
     ]
    }
   ],
   "source": [
    "# Example\n",
    "sentence1 = \"did run quick\"\n",
    "sentence2 = \"swim fast\"\n",
    "\n",
    "doc1 = nlp(sentence1)\n",
    "doc2 = nlp(sentence2)\n",
    "\n",
    "def get_sentence_embedding(doc):\n",
    "    word_embeddings = [token.vector for token in doc if token.has_vector]\n",
    "    if word_embeddings:\n",
    "        return torch.mean(torch.tensor(word_embeddings), dim=0)\n",
    "    else:\n",
    "        return torch.zeros(nlp.vocab.vectors_length) \n",
    "\n",
    "embedding_sentence1 = get_sentence_embedding(doc1)\n",
    "embedding_sentence2 = get_sentence_embedding(doc2)\n",
    "\n",
    "cosine_similarity = F.cosine_similarity(embedding_sentence1, embedding_sentence2, dim=0)\n",
    "\n",
    "print(f\"Cosine similarity between the sentences: {cosine_similarity.item():.4f}\")\n"
   ]
  },
  {
   "cell_type": "code",
   "execution_count": 8,
   "metadata": {},
   "outputs": [
    {
     "name": "stderr",
     "output_type": "stream",
     "text": [
      "Evaluating test data: 100%|██████████| 8000/8000 [01:07<00:00, 119.35it/s]"
     ]
    },
    {
     "name": "stdout",
     "output_type": "stream",
     "text": [
      "accuracy: 0.4434\n",
      "precision: 0.4422\n",
      "recall: 0.9924\n",
      "f1_score: 0.6118\n",
      "correlation: -0.0155\n"
     ]
    },
    {
     "name": "stderr",
     "output_type": "stream",
     "text": [
      "\n"
     ]
    }
   ],
   "source": [
    "import numpy as np\n",
    "from sklearn.metrics import accuracy_score, precision_recall_fscore_support\n",
    "from scipy.stats import pearsonr, spearmanr\n",
    "from tqdm import tqdm\n",
    "\n",
    "def evaluate_phrase_similarity(ds, nlp, threshold=0.5):\n",
    "    def get_sentence_embedding(doc):\n",
    "        word_embeddings = [token.vector for token in doc if token.has_vector]\n",
    "        if word_embeddings:\n",
    "            return torch.mean(torch.tensor(word_embeddings), dim=0)\n",
    "        else:\n",
    "            return torch.zeros(nlp.vocab.vectors_length)\n",
    "\n",
    "    test_data = ds['test']\n",
    "\n",
    "    true_scores = []\n",
    "    predicted_scores = []\n",
    "\n",
    "    for example in tqdm(test_data, desc=\"Evaluating test data\"):\n",
    "        doc1 = nlp(example['sentence1'])\n",
    "        doc2 = nlp(example['sentence2'])\n",
    "\n",
    "        embedding1 = get_sentence_embedding(doc1)\n",
    "        embedding2 = get_sentence_embedding(doc2)\n",
    "\n",
    "        similarity = F.cosine_similarity(embedding1, embedding2, dim=0).item()\n",
    "        predicted_scores.append(similarity)\n",
    "\n",
    "        true_scores.append(example['label'])\n",
    "\n",
    "    # Normalize scores to 0-1 range\n",
    "    true_scores = np.array(true_scores)\n",
    "    predicted_scores = np.array(predicted_scores)\n",
    "    true_scores_norm = (true_scores - true_scores.min()) / (true_scores.max() - true_scores.min())\n",
    "    predicted_scores_norm = (predicted_scores - predicted_scores.min()) / (predicted_scores.max() - predicted_scores.min())\n",
    "\n",
    "    # Calculate correlations\n",
    "    pearson_corr, _ = pearsonr(true_scores, predicted_scores)\n",
    "    spearman_corr, _ = spearmanr(true_scores, predicted_scores)\n",
    "    correlation = (pearson_corr + spearman_corr) / 2\n",
    "\n",
    "    # Convert to binary predictions\n",
    "    true_binary = (true_scores_norm >= threshold).astype(int)\n",
    "    predicted_binary = (predicted_scores_norm >= threshold).astype(int)\n",
    "\n",
    "    # Calculate metrics\n",
    "    accuracy = accuracy_score(true_binary, predicted_binary)\n",
    "    precision, recall, f1, _ = precision_recall_fscore_support(true_binary, predicted_binary, average='binary')\n",
    "\n",
    "    return {\n",
    "        'accuracy': accuracy,\n",
    "        'precision': precision,\n",
    "        'recall': recall,\n",
    "        'f1_score': f1,\n",
    "        'correlation': correlation\n",
    "    }\n",
    "\n",
    "metrics = evaluate_phrase_similarity(ds, nlp)\n",
    "for metric_name, value in metrics.items():\n",
    "    print(f\"{metric_name}: {value:.4f}\")\n"
   ]
  }
 ],
 "metadata": {
  "kernelspec": {
   "display_name": ".venv",
   "language": "python",
   "name": "python3"
  },
  "language_info": {
   "codemirror_mode": {
    "name": "ipython",
    "version": 3
   },
   "file_extension": ".py",
   "mimetype": "text/x-python",
   "name": "python",
   "nbconvert_exporter": "python",
   "pygments_lexer": "ipython3",
   "version": "3.12.3"
  }
 },
 "nbformat": 4,
 "nbformat_minor": 2
}
